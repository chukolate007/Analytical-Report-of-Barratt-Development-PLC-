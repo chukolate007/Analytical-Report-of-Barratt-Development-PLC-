{
 "cells": [
  {
   "cell_type": "code",
   "execution_count": 1,
   "metadata": {},
   "outputs": [],
   "source": [
    "# import required packages\n",
    "import pandas as pd\n",
    "import yfinance as yf\n",
    "import numpy as np\n",
    "import matplotlib as mp\n",
    "import statsmodels as ss"
   ]
  },
  {
   "cell_type": "code",
   "execution_count": 22,
   "metadata": {},
   "outputs": [
    {
     "name": "stdout",
     "output_type": "stream",
     "text": [
      "[*********************100%***********************]  1 of 1 completed\n"
     ]
    }
   ],
   "source": [
    "# Download BDEV.L Sports prices\n",
    "BDEV=yf.download('BDEV.L',start='2019-01-02',end='2021-01-01')"
   ]
  },
  {
   "cell_type": "code",
   "execution_count": 23,
   "metadata": {},
   "outputs": [
    {
     "name": "stdout",
     "output_type": "stream",
     "text": [
      "                  Open        High         Low       Close   Adj Close  \\\n",
      "Date                                                                     \n",
      "2019-01-02  458.000000  465.899994  453.600006  462.200012  423.468323   \n",
      "2019-01-03  457.299988  473.399994  457.000000  464.299988  425.392303   \n",
      "2019-01-04  466.700012  474.700012  466.700012  473.500000  433.821350   \n",
      "2019-01-07  476.399994  482.299988  471.700012  477.000000  437.028046   \n",
      "2019-01-08  477.799988  487.500000  473.100006  479.299988  439.135345   \n",
      "...                ...         ...         ...         ...         ...   \n",
      "2020-12-23  654.400024  677.799988  631.000000  676.000000  676.000000   \n",
      "2020-12-24  687.799988  699.799988  683.400024  688.000000  688.000000   \n",
      "2020-12-29  694.000000  704.599976  680.000000  681.599976  681.599976   \n",
      "2020-12-30  676.000000  693.270020  675.599976  680.200012  680.200012   \n",
      "2020-12-31  673.200012  678.799988  661.400024  670.000000  670.000000   \n",
      "\n",
      "             Volume  \n",
      "Date                 \n",
      "2019-01-02  3619480  \n",
      "2019-01-03  2651069  \n",
      "2019-01-04  2708897  \n",
      "2019-01-07  2857355  \n",
      "2019-01-08  3758265  \n",
      "...             ...  \n",
      "2020-12-23  3091785  \n",
      "2020-12-24  1582041  \n",
      "2020-12-29  3050992  \n",
      "2020-12-30  1427455  \n",
      "2020-12-31  1071459  \n",
      "\n",
      "[507 rows x 6 columns]\n"
     ]
    }
   ],
   "source": [
    "print (BDEV)"
   ]
  },
  {
   "cell_type": "code",
   "execution_count": 24,
   "metadata": {},
   "outputs": [
    {
     "data": {
      "text/plain": [
       "<bound method NDFrame.head of                   Open        High         Low       Close   Adj Close  \\\n",
       "Date                                                                     \n",
       "2019-01-02  458.000000  465.899994  453.600006  462.200012  423.468323   \n",
       "2019-01-03  457.299988  473.399994  457.000000  464.299988  425.392303   \n",
       "2019-01-04  466.700012  474.700012  466.700012  473.500000  433.821350   \n",
       "2019-01-07  476.399994  482.299988  471.700012  477.000000  437.028046   \n",
       "2019-01-08  477.799988  487.500000  473.100006  479.299988  439.135345   \n",
       "...                ...         ...         ...         ...         ...   \n",
       "2020-12-23  654.400024  677.799988  631.000000  676.000000  676.000000   \n",
       "2020-12-24  687.799988  699.799988  683.400024  688.000000  688.000000   \n",
       "2020-12-29  694.000000  704.599976  680.000000  681.599976  681.599976   \n",
       "2020-12-30  676.000000  693.270020  675.599976  680.200012  680.200012   \n",
       "2020-12-31  673.200012  678.799988  661.400024  670.000000  670.000000   \n",
       "\n",
       "             Volume  \n",
       "Date                 \n",
       "2019-01-02  3619480  \n",
       "2019-01-03  2651069  \n",
       "2019-01-04  2708897  \n",
       "2019-01-07  2857355  \n",
       "2019-01-08  3758265  \n",
       "...             ...  \n",
       "2020-12-23  3091785  \n",
       "2020-12-24  1582041  \n",
       "2020-12-29  3050992  \n",
       "2020-12-30  1427455  \n",
       "2020-12-31  1071459  \n",
       "\n",
       "[507 rows x 6 columns]>"
      ]
     },
     "execution_count": 24,
     "metadata": {},
     "output_type": "execute_result"
    }
   ],
   "source": [
    "BDEV.head"
   ]
  },
  {
   "cell_type": "markdown",
   "metadata": {},
   "source": [
    "# Indexing"
   ]
  },
  {
   "cell_type": "markdown",
   "metadata": {},
   "source": [
    "# Select a column, row, or cell By the names of columns and rows"
   ]
  },
  {
   "cell_type": "code",
   "execution_count": 25,
   "metadata": {},
   "outputs": [
    {
     "data": {
      "text/plain": [
       "Date\n",
       "2019-01-02    423.468323\n",
       "2019-01-03    425.392303\n",
       "2019-01-04    433.821350\n",
       "2019-01-07    437.028046\n",
       "2019-01-08    439.135345\n",
       "                 ...    \n",
       "2020-12-23    676.000000\n",
       "2020-12-24    688.000000\n",
       "2020-12-29    681.599976\n",
       "2020-12-30    680.200012\n",
       "2020-12-31    670.000000\n",
       "Name: Adj Close, Length: 507, dtype: float64"
      ]
     },
     "execution_count": 25,
     "metadata": {},
     "output_type": "execute_result"
    }
   ],
   "source": [
    "# select a column\n",
    "BDEV['Adj Close']"
   ]
  },
  {
   "cell_type": "code",
   "execution_count": 26,
   "metadata": {},
   "outputs": [
    {
     "data": {
      "text/plain": [
       "Open         4.580000e+02\n",
       "High         4.659000e+02\n",
       "Low          4.536000e+02\n",
       "Close        4.622000e+02\n",
       "Adj Close    4.234683e+02\n",
       "Volume       3.619480e+06\n",
       "Name: 2019-01-02 00:00:00, dtype: float64"
      ]
     },
     "execution_count": 26,
     "metadata": {},
     "output_type": "execute_result"
    }
   ],
   "source": [
    "# select a row\n",
    "BDEV.loc['2019-01-02']\n"
   ]
  },
  {
   "cell_type": "code",
   "execution_count": 27,
   "metadata": {},
   "outputs": [
    {
     "data": {
      "text/plain": [
       "423.46832275390625"
      ]
     },
     "execution_count": 27,
     "metadata": {},
     "output_type": "execute_result"
    }
   ],
   "source": [
    "# select a cell\n",
    "BDEV['Adj Close']['2019-01-02']"
   ]
  },
  {
   "cell_type": "markdown",
   "metadata": {},
   "source": [
    "#### By the numbers of columns and rows"
   ]
  },
  {
   "cell_type": "code",
   "execution_count": 41,
   "metadata": {},
   "outputs": [
    {
     "data": {
      "text/plain": [
       "Date\n",
       "2019-01-02    423.468323\n",
       "2019-01-03    425.392303\n",
       "2019-01-04    433.821350\n",
       "2019-01-07    437.028046\n",
       "2019-01-08    439.135345\n",
       "                 ...    \n",
       "2020-12-23    676.000000\n",
       "2020-12-24    688.000000\n",
       "2020-12-29    681.599976\n",
       "2020-12-30    680.200012\n",
       "2020-12-31    670.000000\n",
       "Name: Adj Close, Length: 507, dtype: float64"
      ]
     },
     "execution_count": 41,
     "metadata": {},
     "output_type": "execute_result"
    }
   ],
   "source": [
    "# select a column\n",
    "BDEV.iloc[:,4]"
   ]
  },
  {
   "cell_type": "code",
   "execution_count": 42,
   "metadata": {},
   "outputs": [
    {
     "data": {
      "text/plain": [
       "Open         4.580000e+02\n",
       "High         4.659000e+02\n",
       "Low          4.536000e+02\n",
       "Close        4.622000e+02\n",
       "Adj Close    4.234683e+02\n",
       "Volume       3.619480e+06\n",
       "Name: 2019-01-02 00:00:00, dtype: float64"
      ]
     },
     "execution_count": 42,
     "metadata": {},
     "output_type": "execute_result"
    }
   ],
   "source": [
    "# select a row\n",
    "BDEV.iloc[0]"
   ]
  },
  {
   "cell_type": "code",
   "execution_count": 43,
   "metadata": {},
   "outputs": [
    {
     "data": {
      "text/plain": [
       "423.46832275390625"
      ]
     },
     "execution_count": 43,
     "metadata": {},
     "output_type": "execute_result"
    }
   ],
   "source": [
    "# select a cell\n",
    "BDEV.iloc[0,4]"
   ]
  },
  {
   "cell_type": "markdown",
   "metadata": {},
   "source": [
    "### Define the training and test sets"
   ]
  },
  {
   "cell_type": "code",
   "execution_count": 44,
   "metadata": {},
   "outputs": [],
   "source": [
    "# Training set\n",
    "BDEVtraining = BDEV.iloc[0:487]"
   ]
  },
  {
   "cell_type": "code",
   "execution_count": 45,
   "metadata": {},
   "outputs": [],
   "source": [
    "# Drop the columns we don't need\n",
    "BDEVtraining = BDEVtraining.drop(columns=['Open','High','Low','Close','Volume'])\n"
   ]
  },
  {
   "cell_type": "code",
   "execution_count": 46,
   "metadata": {},
   "outputs": [
    {
     "name": "stdout",
     "output_type": "stream",
     "text": [
      "             Adj Close\n",
      "Date                  \n",
      "2019-01-02  423.468323\n",
      "2019-01-03  425.392303\n",
      "2019-01-04  433.821350\n",
      "2019-01-07  437.028046\n",
      "2019-01-08  439.135345\n",
      "...                ...\n",
      "2020-11-25  636.200012\n",
      "2020-11-26  629.000000\n",
      "2020-11-27  629.000000\n",
      "2020-11-30  620.000000\n",
      "2020-12-01  655.799988\n",
      "\n",
      "[487 rows x 1 columns]\n"
     ]
    }
   ],
   "source": [
    "print (BDEVtraining)"
   ]
  },
  {
   "cell_type": "code",
   "execution_count": 47,
   "metadata": {},
   "outputs": [],
   "source": [
    "\n",
    "\n",
    "\n",
    "# Test set\n",
    "BDEVtest=BDEV.iloc[487:507]\n",
    "\n",
    "# or BDEVtest=BDEV.iloc[-20:-1].append(BDEV.iloc[-1])"
   ]
  },
  {
   "cell_type": "code",
   "execution_count": 48,
   "metadata": {},
   "outputs": [],
   "source": [
    "# Drop the columns we don't need\n",
    "BDEVtest=BDEVtest.drop(columns=['Open','High','Low','Close','Volume'])"
   ]
  },
  {
   "cell_type": "code",
   "execution_count": 49,
   "metadata": {},
   "outputs": [
    {
     "name": "stdout",
     "output_type": "stream",
     "text": [
      "             Adj Close\n",
      "Date                  \n",
      "2020-12-02  648.799988\n",
      "2020-12-03  659.200012\n",
      "2020-12-04  653.599976\n",
      "2020-12-07  631.000000\n",
      "2020-12-08  626.000000\n",
      "2020-12-09  630.799988\n",
      "2020-12-10  598.599976\n",
      "2020-12-11  583.400024\n",
      "2020-12-14  605.599976\n",
      "2020-12-15  621.200012\n",
      "2020-12-16  650.000000\n",
      "2020-12-17  650.000000\n",
      "2020-12-18  650.000000\n",
      "2020-12-21  636.400024\n",
      "2020-12-22  649.000000\n",
      "2020-12-23  676.000000\n",
      "2020-12-24  688.000000\n",
      "2020-12-29  681.599976\n",
      "2020-12-30  680.200012\n",
      "2020-12-31  670.000000\n"
     ]
    }
   ],
   "source": [
    "print (BDEVtest)"
   ]
  },
  {
   "cell_type": "markdown",
   "metadata": {},
   "source": [
    "## Descriptive Analytics"
   ]
  },
  {
   "cell_type": "markdown",
   "metadata": {},
   "source": [
    "### Calculate daily returns"
   ]
  },
  {
   "cell_type": "markdown",
   "metadata": {},
   "source": [
    "The formula is: today's return = (today's price - yesterday's price)/yesterday's price"
   ]
  },
  {
   "cell_type": "code",
   "execution_count": 52,
   "metadata": {},
   "outputs": [],
   "source": [
    "returns=(BDEVtraining['Adj Close']-BDEVtraining.shift(1)['Adj Close'])/BDEVtraining.shift(1)['Adj Close']\n",
    "\n",
    "# BDEVtraining.shift(1) can shift all records down by one row."
   ]
  },
  {
   "cell_type": "code",
   "execution_count": 53,
   "metadata": {},
   "outputs": [],
   "source": [
    "BDEVtraining['Return']=returns"
   ]
  },
  {
   "cell_type": "code",
   "execution_count": 19,
   "metadata": {},
   "outputs": [
    {
     "data": {
      "text/html": [
       "<div>\n",
       "<style scoped>\n",
       "    .dataframe tbody tr th:only-of-type {\n",
       "        vertical-align: middle;\n",
       "    }\n",
       "\n",
       "    .dataframe tbody tr th {\n",
       "        vertical-align: top;\n",
       "    }\n",
       "\n",
       "    .dataframe thead th {\n",
       "        text-align: right;\n",
       "    }\n",
       "</style>\n",
       "<table border=\"1\" class=\"dataframe\">\n",
       "  <thead>\n",
       "    <tr style=\"text-align: right;\">\n",
       "      <th></th>\n",
       "      <th>Adj Close</th>\n",
       "    </tr>\n",
       "    <tr>\n",
       "      <th>Date</th>\n",
       "      <th></th>\n",
       "    </tr>\n",
       "  </thead>\n",
       "  <tbody>\n",
       "    <tr>\n",
       "      <th>2019-01-02</th>\n",
       "      <td>423.468323</td>\n",
       "    </tr>\n",
       "    <tr>\n",
       "      <th>2019-01-03</th>\n",
       "      <td>425.392303</td>\n",
       "    </tr>\n",
       "    <tr>\n",
       "      <th>2019-01-04</th>\n",
       "      <td>433.821350</td>\n",
       "    </tr>\n",
       "    <tr>\n",
       "      <th>2019-01-07</th>\n",
       "      <td>437.028046</td>\n",
       "    </tr>\n",
       "    <tr>\n",
       "      <th>2019-01-08</th>\n",
       "      <td>439.135345</td>\n",
       "    </tr>\n",
       "    <tr>\n",
       "      <th>...</th>\n",
       "      <td>...</td>\n",
       "    </tr>\n",
       "    <tr>\n",
       "      <th>2020-11-25</th>\n",
       "      <td>636.200012</td>\n",
       "    </tr>\n",
       "    <tr>\n",
       "      <th>2020-11-26</th>\n",
       "      <td>629.000000</td>\n",
       "    </tr>\n",
       "    <tr>\n",
       "      <th>2020-11-27</th>\n",
       "      <td>629.000000</td>\n",
       "    </tr>\n",
       "    <tr>\n",
       "      <th>2020-11-30</th>\n",
       "      <td>620.000000</td>\n",
       "    </tr>\n",
       "    <tr>\n",
       "      <th>2020-12-01</th>\n",
       "      <td>655.799988</td>\n",
       "    </tr>\n",
       "  </tbody>\n",
       "</table>\n",
       "<p>487 rows × 1 columns</p>\n",
       "</div>"
      ],
      "text/plain": [
       "             Adj Close\n",
       "Date                  \n",
       "2019-01-02  423.468323\n",
       "2019-01-03  425.392303\n",
       "2019-01-04  433.821350\n",
       "2019-01-07  437.028046\n",
       "2019-01-08  439.135345\n",
       "...                ...\n",
       "2020-11-25  636.200012\n",
       "2020-11-26  629.000000\n",
       "2020-11-27  629.000000\n",
       "2020-11-30  620.000000\n",
       "2020-12-01  655.799988\n",
       "\n",
       "[487 rows x 1 columns]"
      ]
     },
     "execution_count": 19,
     "metadata": {},
     "output_type": "execute_result"
    }
   ],
   "source": [
    "BDEVtraining"
   ]
  },
  {
   "cell_type": "code",
   "execution_count": 54,
   "metadata": {},
   "outputs": [
    {
     "data": {
      "text/html": [
       "<div>\n",
       "<style scoped>\n",
       "    .dataframe tbody tr th:only-of-type {\n",
       "        vertical-align: middle;\n",
       "    }\n",
       "\n",
       "    .dataframe tbody tr th {\n",
       "        vertical-align: top;\n",
       "    }\n",
       "\n",
       "    .dataframe thead th {\n",
       "        text-align: right;\n",
       "    }\n",
       "</style>\n",
       "<table border=\"1\" class=\"dataframe\">\n",
       "  <thead>\n",
       "    <tr style=\"text-align: right;\">\n",
       "      <th></th>\n",
       "      <th>Adj Close</th>\n",
       "      <th>Return</th>\n",
       "    </tr>\n",
       "    <tr>\n",
       "      <th>Date</th>\n",
       "      <th></th>\n",
       "      <th></th>\n",
       "    </tr>\n",
       "  </thead>\n",
       "  <tbody>\n",
       "    <tr>\n",
       "      <th>2020-12-02</th>\n",
       "      <td>648.799988</td>\n",
       "      <td>NaN</td>\n",
       "    </tr>\n",
       "    <tr>\n",
       "      <th>2020-12-03</th>\n",
       "      <td>659.200012</td>\n",
       "      <td>0.016030</td>\n",
       "    </tr>\n",
       "    <tr>\n",
       "      <th>2020-12-04</th>\n",
       "      <td>653.599976</td>\n",
       "      <td>-0.008495</td>\n",
       "    </tr>\n",
       "    <tr>\n",
       "      <th>2020-12-07</th>\n",
       "      <td>631.000000</td>\n",
       "      <td>-0.034578</td>\n",
       "    </tr>\n",
       "    <tr>\n",
       "      <th>2020-12-08</th>\n",
       "      <td>626.000000</td>\n",
       "      <td>-0.007924</td>\n",
       "    </tr>\n",
       "    <tr>\n",
       "      <th>2020-12-09</th>\n",
       "      <td>630.799988</td>\n",
       "      <td>0.007668</td>\n",
       "    </tr>\n",
       "    <tr>\n",
       "      <th>2020-12-10</th>\n",
       "      <td>598.599976</td>\n",
       "      <td>-0.051046</td>\n",
       "    </tr>\n",
       "    <tr>\n",
       "      <th>2020-12-11</th>\n",
       "      <td>583.400024</td>\n",
       "      <td>-0.025393</td>\n",
       "    </tr>\n",
       "    <tr>\n",
       "      <th>2020-12-14</th>\n",
       "      <td>605.599976</td>\n",
       "      <td>0.038053</td>\n",
       "    </tr>\n",
       "    <tr>\n",
       "      <th>2020-12-15</th>\n",
       "      <td>621.200012</td>\n",
       "      <td>0.025760</td>\n",
       "    </tr>\n",
       "    <tr>\n",
       "      <th>2020-12-16</th>\n",
       "      <td>650.000000</td>\n",
       "      <td>0.046362</td>\n",
       "    </tr>\n",
       "    <tr>\n",
       "      <th>2020-12-17</th>\n",
       "      <td>650.000000</td>\n",
       "      <td>0.000000</td>\n",
       "    </tr>\n",
       "    <tr>\n",
       "      <th>2020-12-18</th>\n",
       "      <td>650.000000</td>\n",
       "      <td>0.000000</td>\n",
       "    </tr>\n",
       "    <tr>\n",
       "      <th>2020-12-21</th>\n",
       "      <td>636.400024</td>\n",
       "      <td>-0.020923</td>\n",
       "    </tr>\n",
       "    <tr>\n",
       "      <th>2020-12-22</th>\n",
       "      <td>649.000000</td>\n",
       "      <td>0.019799</td>\n",
       "    </tr>\n",
       "    <tr>\n",
       "      <th>2020-12-23</th>\n",
       "      <td>676.000000</td>\n",
       "      <td>0.041602</td>\n",
       "    </tr>\n",
       "    <tr>\n",
       "      <th>2020-12-24</th>\n",
       "      <td>688.000000</td>\n",
       "      <td>0.017751</td>\n",
       "    </tr>\n",
       "    <tr>\n",
       "      <th>2020-12-29</th>\n",
       "      <td>681.599976</td>\n",
       "      <td>-0.009302</td>\n",
       "    </tr>\n",
       "    <tr>\n",
       "      <th>2020-12-30</th>\n",
       "      <td>680.200012</td>\n",
       "      <td>-0.002054</td>\n",
       "    </tr>\n",
       "    <tr>\n",
       "      <th>2020-12-31</th>\n",
       "      <td>670.000000</td>\n",
       "      <td>-0.014996</td>\n",
       "    </tr>\n",
       "  </tbody>\n",
       "</table>\n",
       "</div>"
      ],
      "text/plain": [
       "             Adj Close    Return\n",
       "Date                            \n",
       "2020-12-02  648.799988       NaN\n",
       "2020-12-03  659.200012  0.016030\n",
       "2020-12-04  653.599976 -0.008495\n",
       "2020-12-07  631.000000 -0.034578\n",
       "2020-12-08  626.000000 -0.007924\n",
       "2020-12-09  630.799988  0.007668\n",
       "2020-12-10  598.599976 -0.051046\n",
       "2020-12-11  583.400024 -0.025393\n",
       "2020-12-14  605.599976  0.038053\n",
       "2020-12-15  621.200012  0.025760\n",
       "2020-12-16  650.000000  0.046362\n",
       "2020-12-17  650.000000  0.000000\n",
       "2020-12-18  650.000000  0.000000\n",
       "2020-12-21  636.400024 -0.020923\n",
       "2020-12-22  649.000000  0.019799\n",
       "2020-12-23  676.000000  0.041602\n",
       "2020-12-24  688.000000  0.017751\n",
       "2020-12-29  681.599976 -0.009302\n",
       "2020-12-30  680.200012 -0.002054\n",
       "2020-12-31  670.000000 -0.014996"
      ]
     },
     "execution_count": 54,
     "metadata": {},
     "output_type": "execute_result"
    }
   ],
   "source": [
    "# calculate daily returns of test set\n",
    "BDEVtest['Return']=(BDEVtest['Adj Close']-BDEVtest.shift(1)['Adj Close'])/BDEVtest.shift(1)['Adj Close']\n",
    "BDEVtest"
   ]
  },
  {
   "cell_type": "code",
   "execution_count": 55,
   "metadata": {},
   "outputs": [
    {
     "data": {
      "text/html": [
       "<div>\n",
       "<style scoped>\n",
       "    .dataframe tbody tr th:only-of-type {\n",
       "        vertical-align: middle;\n",
       "    }\n",
       "\n",
       "    .dataframe tbody tr th {\n",
       "        vertical-align: top;\n",
       "    }\n",
       "\n",
       "    .dataframe thead th {\n",
       "        text-align: right;\n",
       "    }\n",
       "</style>\n",
       "<table border=\"1\" class=\"dataframe\">\n",
       "  <thead>\n",
       "    <tr style=\"text-align: right;\">\n",
       "      <th></th>\n",
       "      <th>Adj Close</th>\n",
       "      <th>Return</th>\n",
       "    </tr>\n",
       "    <tr>\n",
       "      <th>Date</th>\n",
       "      <th></th>\n",
       "      <th></th>\n",
       "    </tr>\n",
       "  </thead>\n",
       "  <tbody>\n",
       "    <tr>\n",
       "      <th>2020-12-02</th>\n",
       "      <td>648.799988</td>\n",
       "      <td>-0.010674</td>\n",
       "    </tr>\n",
       "    <tr>\n",
       "      <th>2020-12-03</th>\n",
       "      <td>659.200012</td>\n",
       "      <td>0.016030</td>\n",
       "    </tr>\n",
       "    <tr>\n",
       "      <th>2020-12-04</th>\n",
       "      <td>653.599976</td>\n",
       "      <td>-0.008495</td>\n",
       "    </tr>\n",
       "    <tr>\n",
       "      <th>2020-12-07</th>\n",
       "      <td>631.000000</td>\n",
       "      <td>-0.034578</td>\n",
       "    </tr>\n",
       "    <tr>\n",
       "      <th>2020-12-08</th>\n",
       "      <td>626.000000</td>\n",
       "      <td>-0.007924</td>\n",
       "    </tr>\n",
       "    <tr>\n",
       "      <th>2020-12-09</th>\n",
       "      <td>630.799988</td>\n",
       "      <td>0.007668</td>\n",
       "    </tr>\n",
       "    <tr>\n",
       "      <th>2020-12-10</th>\n",
       "      <td>598.599976</td>\n",
       "      <td>-0.051046</td>\n",
       "    </tr>\n",
       "    <tr>\n",
       "      <th>2020-12-11</th>\n",
       "      <td>583.400024</td>\n",
       "      <td>-0.025393</td>\n",
       "    </tr>\n",
       "    <tr>\n",
       "      <th>2020-12-14</th>\n",
       "      <td>605.599976</td>\n",
       "      <td>0.038053</td>\n",
       "    </tr>\n",
       "    <tr>\n",
       "      <th>2020-12-15</th>\n",
       "      <td>621.200012</td>\n",
       "      <td>0.025760</td>\n",
       "    </tr>\n",
       "    <tr>\n",
       "      <th>2020-12-16</th>\n",
       "      <td>650.000000</td>\n",
       "      <td>0.046362</td>\n",
       "    </tr>\n",
       "    <tr>\n",
       "      <th>2020-12-17</th>\n",
       "      <td>650.000000</td>\n",
       "      <td>0.000000</td>\n",
       "    </tr>\n",
       "    <tr>\n",
       "      <th>2020-12-18</th>\n",
       "      <td>650.000000</td>\n",
       "      <td>0.000000</td>\n",
       "    </tr>\n",
       "    <tr>\n",
       "      <th>2020-12-21</th>\n",
       "      <td>636.400024</td>\n",
       "      <td>-0.020923</td>\n",
       "    </tr>\n",
       "    <tr>\n",
       "      <th>2020-12-22</th>\n",
       "      <td>649.000000</td>\n",
       "      <td>0.019799</td>\n",
       "    </tr>\n",
       "    <tr>\n",
       "      <th>2020-12-23</th>\n",
       "      <td>676.000000</td>\n",
       "      <td>0.041602</td>\n",
       "    </tr>\n",
       "    <tr>\n",
       "      <th>2020-12-24</th>\n",
       "      <td>688.000000</td>\n",
       "      <td>0.017751</td>\n",
       "    </tr>\n",
       "    <tr>\n",
       "      <th>2020-12-29</th>\n",
       "      <td>681.599976</td>\n",
       "      <td>-0.009302</td>\n",
       "    </tr>\n",
       "    <tr>\n",
       "      <th>2020-12-30</th>\n",
       "      <td>680.200012</td>\n",
       "      <td>-0.002054</td>\n",
       "    </tr>\n",
       "    <tr>\n",
       "      <th>2020-12-31</th>\n",
       "      <td>670.000000</td>\n",
       "      <td>-0.014996</td>\n",
       "    </tr>\n",
       "  </tbody>\n",
       "</table>\n",
       "</div>"
      ],
      "text/plain": [
       "             Adj Close    Return\n",
       "Date                            \n",
       "2020-12-02  648.799988 -0.010674\n",
       "2020-12-03  659.200012  0.016030\n",
       "2020-12-04  653.599976 -0.008495\n",
       "2020-12-07  631.000000 -0.034578\n",
       "2020-12-08  626.000000 -0.007924\n",
       "2020-12-09  630.799988  0.007668\n",
       "2020-12-10  598.599976 -0.051046\n",
       "2020-12-11  583.400024 -0.025393\n",
       "2020-12-14  605.599976  0.038053\n",
       "2020-12-15  621.200012  0.025760\n",
       "2020-12-16  650.000000  0.046362\n",
       "2020-12-17  650.000000  0.000000\n",
       "2020-12-18  650.000000  0.000000\n",
       "2020-12-21  636.400024 -0.020923\n",
       "2020-12-22  649.000000  0.019799\n",
       "2020-12-23  676.000000  0.041602\n",
       "2020-12-24  688.000000  0.017751\n",
       "2020-12-29  681.599976 -0.009302\n",
       "2020-12-30  680.200012 -0.002054\n",
       "2020-12-31  670.000000 -0.014996"
      ]
     },
     "execution_count": 55,
     "metadata": {},
     "output_type": "execute_result"
    }
   ],
   "source": [
    "BDEVtest.iloc[0,1]=(BDEVtest.iloc[0,0]-BDEVtraining.iloc[-1,0])/BDEVtraining.iloc[-1,0]\n",
    "BDEVtest"
   ]
  },
  {
   "cell_type": "markdown",
   "metadata": {},
   "source": [
    "Descriptive statistics"
   ]
  },
  {
   "cell_type": "code",
   "execution_count": 56,
   "metadata": {},
   "outputs": [
    {
     "data": {
      "text/html": [
       "<div>\n",
       "<style scoped>\n",
       "    .dataframe tbody tr th:only-of-type {\n",
       "        vertical-align: middle;\n",
       "    }\n",
       "\n",
       "    .dataframe tbody tr th {\n",
       "        vertical-align: top;\n",
       "    }\n",
       "\n",
       "    .dataframe thead th {\n",
       "        text-align: right;\n",
       "    }\n",
       "</style>\n",
       "<table border=\"1\" class=\"dataframe\">\n",
       "  <thead>\n",
       "    <tr style=\"text-align: right;\">\n",
       "      <th></th>\n",
       "      <th>Adj Close</th>\n",
       "      <th>Return</th>\n",
       "    </tr>\n",
       "  </thead>\n",
       "  <tbody>\n",
       "    <tr>\n",
       "      <th>count</th>\n",
       "      <td>487.000000</td>\n",
       "      <td>486.000000</td>\n",
       "    </tr>\n",
       "    <tr>\n",
       "      <th>mean</th>\n",
       "      <td>567.257735</td>\n",
       "      <td>0.001342</td>\n",
       "    </tr>\n",
       "    <tr>\n",
       "      <th>std</th>\n",
       "      <td>89.836031</td>\n",
       "      <td>0.029828</td>\n",
       "    </tr>\n",
       "    <tr>\n",
       "      <th>min</th>\n",
       "      <td>349.453918</td>\n",
       "      <td>-0.140422</td>\n",
       "    </tr>\n",
       "    <tr>\n",
       "      <th>25%</th>\n",
       "      <td>513.627991</td>\n",
       "      <td>-0.010090</td>\n",
       "    </tr>\n",
       "    <tr>\n",
       "      <th>50%</th>\n",
       "      <td>545.562317</td>\n",
       "      <td>0.001023</td>\n",
       "    </tr>\n",
       "    <tr>\n",
       "      <th>75%</th>\n",
       "      <td>608.541840</td>\n",
       "      <td>0.012400</td>\n",
       "    </tr>\n",
       "    <tr>\n",
       "      <th>max</th>\n",
       "      <td>841.678955</td>\n",
       "      <td>0.164195</td>\n",
       "    </tr>\n",
       "  </tbody>\n",
       "</table>\n",
       "</div>"
      ],
      "text/plain": [
       "        Adj Close      Return\n",
       "count  487.000000  486.000000\n",
       "mean   567.257735    0.001342\n",
       "std     89.836031    0.029828\n",
       "min    349.453918   -0.140422\n",
       "25%    513.627991   -0.010090\n",
       "50%    545.562317    0.001023\n",
       "75%    608.541840    0.012400\n",
       "max    841.678955    0.164195"
      ]
     },
     "execution_count": 56,
     "metadata": {},
     "output_type": "execute_result"
    }
   ],
   "source": [
    "BDEVtraining.describe()"
   ]
  },
  {
   "cell_type": "code",
   "execution_count": 57,
   "metadata": {},
   "outputs": [
    {
     "data": {
      "text/plain": [
       "Adj Close    567.257735\n",
       "Return         0.001342\n",
       "dtype: float64"
      ]
     },
     "execution_count": 57,
     "metadata": {},
     "output_type": "execute_result"
    }
   ],
   "source": [
    "BDEVtraining.mean()"
   ]
  },
  {
   "cell_type": "code",
   "execution_count": 58,
   "metadata": {},
   "outputs": [
    {
     "data": {
      "text/plain": [
       "Adj Close    545.562317\n",
       "Return         0.001023\n",
       "dtype: float64"
      ]
     },
     "execution_count": 58,
     "metadata": {},
     "output_type": "execute_result"
    }
   ],
   "source": [
    "BDEVtraining.median()"
   ]
  },
  {
   "cell_type": "code",
   "execution_count": 59,
   "metadata": {},
   "outputs": [
    {
     "data": {
      "text/plain": [
       "Adj Close    8070.512516\n",
       "Return          0.000890\n",
       "dtype: float64"
      ]
     },
     "execution_count": 59,
     "metadata": {},
     "output_type": "execute_result"
    }
   ],
   "source": [
    "#Sample variance\n",
    "BDEVtraining.var()"
   ]
  },
  {
   "cell_type": "code",
   "execution_count": 60,
   "metadata": {},
   "outputs": [
    {
     "data": {
      "text/plain": [
       "Adj Close    8053.940622\n",
       "Return          0.000888\n",
       "dtype: float64"
      ]
     },
     "execution_count": 60,
     "metadata": {},
     "output_type": "execute_result"
    }
   ],
   "source": [
    "#Population variance, not required for your assignment\n",
    "BDEVtraining.var(ddof=0)"
   ]
  },
  {
   "cell_type": "code",
   "execution_count": 61,
   "metadata": {},
   "outputs": [
    {
     "data": {
      "text/plain": [
       "Adj Close    89.836031\n",
       "Return        0.029828\n",
       "dtype: float64"
      ]
     },
     "execution_count": 61,
     "metadata": {},
     "output_type": "execute_result"
    }
   ],
   "source": [
    "# Sample standard deviation\n",
    "BDEVtraining.std()"
   ]
  },
  {
   "cell_type": "code",
   "execution_count": 62,
   "metadata": {},
   "outputs": [
    {
     "data": {
      "text/plain": [
       "Adj Close    89.743750\n",
       "Return        0.029798\n",
       "dtype: float64"
      ]
     },
     "execution_count": 62,
     "metadata": {},
     "output_type": "execute_result"
    }
   ],
   "source": [
    "# Population standard deviation, not required\n",
    "BDEVtraining.std(ddof=0)"
   ]
  },
  {
   "cell_type": "code",
   "execution_count": 63,
   "metadata": {},
   "outputs": [
    {
     "data": {
      "text/plain": [
       "0.0449907308836208"
      ]
     },
     "execution_count": 63,
     "metadata": {},
     "output_type": "execute_result"
    }
   ],
   "source": [
    "# Return to risk = mean of returns/std of returns\n",
    "BDEVtraining['Return'].mean()/BDEVtraining['Return'].std()"
   ]
  },
  {
   "cell_type": "code",
   "execution_count": 64,
   "metadata": {},
   "outputs": [
    {
     "data": {
      "text/html": [
       "<div>\n",
       "<style scoped>\n",
       "    .dataframe tbody tr th:only-of-type {\n",
       "        vertical-align: middle;\n",
       "    }\n",
       "\n",
       "    .dataframe tbody tr th {\n",
       "        vertical-align: top;\n",
       "    }\n",
       "\n",
       "    .dataframe thead th {\n",
       "        text-align: right;\n",
       "    }\n",
       "</style>\n",
       "<table border=\"1\" class=\"dataframe\">\n",
       "  <thead>\n",
       "    <tr style=\"text-align: right;\">\n",
       "      <th></th>\n",
       "      <th>Adj Close</th>\n",
       "      <th>Return</th>\n",
       "    </tr>\n",
       "  </thead>\n",
       "  <tbody>\n",
       "    <tr>\n",
       "      <th>count</th>\n",
       "      <td>487.000000</td>\n",
       "      <td>486.000000</td>\n",
       "    </tr>\n",
       "    <tr>\n",
       "      <th>mean</th>\n",
       "      <td>567.257735</td>\n",
       "      <td>0.001342</td>\n",
       "    </tr>\n",
       "    <tr>\n",
       "      <th>std</th>\n",
       "      <td>89.836031</td>\n",
       "      <td>0.029828</td>\n",
       "    </tr>\n",
       "    <tr>\n",
       "      <th>min</th>\n",
       "      <td>349.453918</td>\n",
       "      <td>-0.140422</td>\n",
       "    </tr>\n",
       "    <tr>\n",
       "      <th>25%</th>\n",
       "      <td>513.627991</td>\n",
       "      <td>-0.010090</td>\n",
       "    </tr>\n",
       "    <tr>\n",
       "      <th>50%</th>\n",
       "      <td>545.562317</td>\n",
       "      <td>0.001023</td>\n",
       "    </tr>\n",
       "    <tr>\n",
       "      <th>75%</th>\n",
       "      <td>608.541840</td>\n",
       "      <td>0.012400</td>\n",
       "    </tr>\n",
       "    <tr>\n",
       "      <th>max</th>\n",
       "      <td>841.678955</td>\n",
       "      <td>0.164195</td>\n",
       "    </tr>\n",
       "  </tbody>\n",
       "</table>\n",
       "</div>"
      ],
      "text/plain": [
       "        Adj Close      Return\n",
       "count  487.000000  486.000000\n",
       "mean   567.257735    0.001342\n",
       "std     89.836031    0.029828\n",
       "min    349.453918   -0.140422\n",
       "25%    513.627991   -0.010090\n",
       "50%    545.562317    0.001023\n",
       "75%    608.541840    0.012400\n",
       "max    841.678955    0.164195"
      ]
     },
     "execution_count": 64,
     "metadata": {},
     "output_type": "execute_result"
    }
   ],
   "source": [
    "BDEVtraining.describe()"
   ]
  },
  {
   "cell_type": "code",
   "execution_count": 67,
   "metadata": {},
   "outputs": [
    {
     "data": {
      "text/html": [
       "<div>\n",
       "<style scoped>\n",
       "    .dataframe tbody tr th:only-of-type {\n",
       "        vertical-align: middle;\n",
       "    }\n",
       "\n",
       "    .dataframe tbody tr th {\n",
       "        vertical-align: top;\n",
       "    }\n",
       "\n",
       "    .dataframe thead th {\n",
       "        text-align: right;\n",
       "    }\n",
       "</style>\n",
       "<table border=\"1\" class=\"dataframe\">\n",
       "  <thead>\n",
       "    <tr style=\"text-align: right;\">\n",
       "      <th></th>\n",
       "      <th>Adj Close</th>\n",
       "      <th>Return</th>\n",
       "    </tr>\n",
       "    <tr>\n",
       "      <th>Date</th>\n",
       "      <th></th>\n",
       "      <th></th>\n",
       "    </tr>\n",
       "  </thead>\n",
       "  <tbody>\n",
       "    <tr>\n",
       "      <th>2019-01-02</th>\n",
       "      <td>423.468323</td>\n",
       "      <td>NaN</td>\n",
       "    </tr>\n",
       "    <tr>\n",
       "      <th>2019-01-03</th>\n",
       "      <td>425.392303</td>\n",
       "      <td>0.004543</td>\n",
       "    </tr>\n",
       "    <tr>\n",
       "      <th>2019-01-04</th>\n",
       "      <td>433.821350</td>\n",
       "      <td>0.019815</td>\n",
       "    </tr>\n",
       "    <tr>\n",
       "      <th>2019-01-07</th>\n",
       "      <td>437.028046</td>\n",
       "      <td>0.007392</td>\n",
       "    </tr>\n",
       "    <tr>\n",
       "      <th>2019-01-08</th>\n",
       "      <td>439.135345</td>\n",
       "      <td>0.004822</td>\n",
       "    </tr>\n",
       "    <tr>\n",
       "      <th>...</th>\n",
       "      <td>...</td>\n",
       "      <td>...</td>\n",
       "    </tr>\n",
       "    <tr>\n",
       "      <th>2020-11-25</th>\n",
       "      <td>636.200012</td>\n",
       "      <td>-0.013337</td>\n",
       "    </tr>\n",
       "    <tr>\n",
       "      <th>2020-11-26</th>\n",
       "      <td>629.000000</td>\n",
       "      <td>-0.011317</td>\n",
       "    </tr>\n",
       "    <tr>\n",
       "      <th>2020-11-27</th>\n",
       "      <td>629.000000</td>\n",
       "      <td>0.000000</td>\n",
       "    </tr>\n",
       "    <tr>\n",
       "      <th>2020-11-30</th>\n",
       "      <td>620.000000</td>\n",
       "      <td>-0.014308</td>\n",
       "    </tr>\n",
       "    <tr>\n",
       "      <th>2020-12-01</th>\n",
       "      <td>655.799988</td>\n",
       "      <td>0.057742</td>\n",
       "    </tr>\n",
       "  </tbody>\n",
       "</table>\n",
       "<p>487 rows × 2 columns</p>\n",
       "</div>"
      ],
      "text/plain": [
       "             Adj Close    Return\n",
       "Date                            \n",
       "2019-01-02  423.468323       NaN\n",
       "2019-01-03  425.392303  0.004543\n",
       "2019-01-04  433.821350  0.019815\n",
       "2019-01-07  437.028046  0.007392\n",
       "2019-01-08  439.135345  0.004822\n",
       "...                ...       ...\n",
       "2020-11-25  636.200012 -0.013337\n",
       "2020-11-26  629.000000 -0.011317\n",
       "2020-11-27  629.000000  0.000000\n",
       "2020-11-30  620.000000 -0.014308\n",
       "2020-12-01  655.799988  0.057742\n",
       "\n",
       "[487 rows x 2 columns]"
      ]
     },
     "execution_count": 67,
     "metadata": {},
     "output_type": "execute_result"
    }
   ],
   "source": [
    "BDEVtraining"
   ]
  },
  {
   "cell_type": "code",
   "execution_count": null,
   "metadata": {},
   "outputs": [],
   "source": []
  },
  {
   "cell_type": "markdown",
   "metadata": {},
   "source": [
    "### Histogram, Boxplot and Line charts"
   ]
  },
  {
   "cell_type": "code",
   "execution_count": 65,
   "metadata": {},
   "outputs": [
    {
     "data": {
      "text/plain": [
       "array([[<AxesSubplot:title={'center':'Adj Close'}>,\n",
       "        <AxesSubplot:title={'center':'Return'}>]], dtype=object)"
      ]
     },
     "execution_count": 65,
     "metadata": {},
     "output_type": "execute_result"
    },
    {
     "data": {
      "image/png": "[encoded data removed]",
      "text/plain": [
       "<Figure size 432x288 with 2 Axes>"
      ]
     },
     "metadata": {
      "needs_background": "light"
     },
     "output_type": "display_data"
    }
   ],
   "source": [
    "BDEVtraining.hist()"
   ]
  },
  {
   "cell_type": "code",
   "execution_count": 66,
   "metadata": {},
   "outputs": [
    {
     "data": {
      "text/plain": [
       "array([[<AxesSubplot:title={'center':'Return'}>]], dtype=object)"
      ]
     },
     "execution_count": 66,
     "metadata": {},
     "output_type": "execute_result"
    },
    {
     "data": {
      "image/png": "[encoded data removed]",
      "text/plain": [
       "<Figure size 432x288 with 1 Axes>"
      ]
     },
     "metadata": {
      "needs_background": "light"
     },
     "output_type": "display_data"
    }
   ],
   "source": [
    "BDEVtraining.hist(column='Return',bins=20)"
   ]
  },
  {
   "cell_type": "code",
   "execution_count": 68,
   "metadata": {},
   "outputs": [
    {
     "data": {
      "text/plain": [
       "(array([  2.,   1.,   0.,   2.,   7.,   8.,  16.,  40., 111., 175.,  74.,\n",
       "         22.,  15.,   2.,   4.,   1.,   2.,   2.,   1.,   1.]),\n",
       " array([-0.14042164, -0.12519083, -0.10996002, -0.0947292 , -0.07949839,\n",
       "        -0.06426758, -0.04903676, -0.03380595, -0.01857514, -0.00334433,\n",
       "         0.01188649,  0.0271173 ,  0.04234811,  0.05757893,  0.07280974,\n",
       "         0.08804055,  0.10327137,  0.11850218,  0.13373299,  0.14896381,\n",
       "         0.16419462]),\n",
       " <BarContainer object of 20 artists>)"
      ]
     },
     "execution_count": 68,
     "metadata": {},
     "output_type": "execute_result"
    },
    {
     "data": {
      "image/png": "[encoded data removed]",
      "text/plain": [
       "<Figure size 432x288 with 1 Axes>"
      ]
     },
     "metadata": {
      "needs_background": "light"
     },
     "output_type": "display_data"
    }
   ],
   "source": [
    "mp.pyplot.hist(BDEVtraining['Return'],bins=20)"
   ]
  },
  {
   "cell_type": "code",
   "execution_count": 70,
   "metadata": {},
   "outputs": [
    {
     "data": {
      "text/plain": [
       "Text(0.0012270991024888663, 14, 'Median: 0.0010')"
      ]
     },
     "execution_count": 70,
     "metadata": {},
     "output_type": "execute_result"
    },
    {
     "data": {
      "image/png": "[encoded data removed]",
      "text/plain": [
       "<Figure size 432x288 with 1 Axes>"
      ]
     },
     "metadata": {
      "needs_background": "light"
     },
     "output_type": "display_data"
    }
   ],
   "source": [
    "htg=mp.pyplot.hist(BDEVtraining['Return'],bins=20,density=True,cumulative=False,histtype='bar',color='c')\n",
    "mp.pyplot.axvline(BDEVtraining['Return'].mean())\n",
    "mp.pyplot.text(BDEVtraining['Return'].mean()*1.1,18,'Mean: {:,.4f}'.format(BDEVtraining['Return'].mean()))\n",
    "mp.pyplot.axvline(BDEVtraining['Return'].median(),color='r')\n",
    "mp.pyplot.text(BDEVtraining['Return'].median()*1.2,14,'Median: {:,.4f}'.format(BDEVtraining['Return'].median()))"
   ]
  },
  {
   "cell_type": "code",
   "execution_count": 74,
   "metadata": {},
   "outputs": [
    {
     "data": {
      "text/plain": [
       "Text(545.5623168945312, 40, 'Median: 545.5623')"
      ]
     },
     "execution_count": 74,
     "metadata": {},
     "output_type": "execute_result"
    },
    {
     "data": {
      "image/png": "[encoded data removed]",
      "text/plain": [
       "<Figure size 432x288 with 1 Axes>"
      ]
     },
     "metadata": {
      "needs_background": "light"
     },
     "output_type": "display_data"
    }
   ],
   "source": [
    "htg=mp.pyplot.hist(BDEVtraining['Adj Close'],bins=30,density=False,cumulative=False,histtype='bar',color='c')\n",
    "mp.pyplot.axvline(BDEVtraining['Adj Close'].mean())\n",
    "mp.pyplot.text(BDEVtraining['Adj Close'].mean(),55,'Mean: {:,.4f}'.format(BDEVtraining['Adj Close'].mean()))\n",
    "mp.pyplot.axvline(BDEVtraining['Adj Close'].median(),color='r')\n",
    "mp.pyplot.text(BDEVtraining['Adj Close'].median(),40,'Median: {:,.4f}'.format(BDEVtraining['Adj Close'].median()))"
   ]
  },
  {
   "cell_type": "markdown",
   "metadata": {},
   "source": [
    "Decriptive statistics with box plot"
   ]
  },
  {
   "cell_type": "code",
   "execution_count": 75,
   "metadata": {},
   "outputs": [
    {
     "data": {
      "text/plain": [
       "<AxesSubplot:>"
      ]
     },
     "execution_count": 75,
     "metadata": {},
     "output_type": "execute_result"
    },
    {
     "data": {
      "image/png": "[encoded data removed]",
      "text/plain": [
       "<Figure size 432x288 with 1 Axes>"
      ]
     },
     "metadata": {
      "needs_background": "light"
     },
     "output_type": "display_data"
    }
   ],
   "source": [
    "BDEVtraining.boxplot(column='Adj Close')"
   ]
  },
  {
   "cell_type": "code",
   "execution_count": 76,
   "metadata": {},
   "outputs": [],
   "source": [
    "#RESERVE FOR COMMENT"
   ]
  },
  {
   "cell_type": "code",
   "execution_count": 78,
   "metadata": {},
   "outputs": [
    {
     "data": {
      "text/plain": [
       "Text(0, 0.5, 'BDEV price')"
      ]
     },
     "execution_count": 78,
     "metadata": {},
     "output_type": "execute_result"
    },
    {
     "data": {
      "image/png": "[encoded data removed]",
      "text/plain": [
       "<Figure size 432x288 with 1 Axes>"
      ]
     },
     "metadata": {
      "needs_background": "light"
     },
     "output_type": "display_data"
    }
   ],
   "source": [
    "priceline=BDEVtraining.plot.line(y='Adj Close',legend=False)\n",
    "priceline.set_xlabel(\"Date\")\n",
    "priceline.set_ylabel(\"BDEV price\")"
   ]
  },
  {
   "cell_type": "code",
   "execution_count": null,
   "metadata": {},
   "outputs": [],
   "source": []
  }
 ],
 "metadata": {
  "kernelspec": {
   "display_name": "Python 3",
   "language": "python",
   "name": "python3"
  },
  "language_info": {
   "codemirror_mode": {
    "name": "ipython",
    "version": 3
   },
   "file_extension": ".py",
   "mimetype": "text/x-python",
   "name": "python",
   "nbconvert_exporter": "python",
   "pygments_lexer": "ipython3",
   "version": "3.8.5"
  }
 },
 "nbformat": 4,
 "nbformat_minor": 4
}
